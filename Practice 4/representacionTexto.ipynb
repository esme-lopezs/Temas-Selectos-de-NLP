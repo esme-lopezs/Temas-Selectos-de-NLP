{
 "cells": [
  {
   "cell_type": "markdown",
   "metadata": {},
   "source": [
    "### Bibliotecas"
   ]
  },
  {
   "cell_type": "code",
   "execution_count": 53,
   "metadata": {},
   "outputs": [],
   "source": [
    "import pandas as pd\n",
    "import re\n",
    "import nltk\n",
    "from nltk.corpus import stopwords"
   ]
  },
  {
   "cell_type": "markdown",
   "metadata": {},
   "source": [
    "### Carga de datos"
   ]
  },
  {
   "cell_type": "code",
   "execution_count": 46,
   "metadata": {},
   "outputs": [
    {
     "data": {
      "text/plain": [
       "array(['Otra', 'Regulaciones', 'Alianzas', 'Macroeconomia', 'Innovacion',\n",
       "       'Sostenibilidad', 'Reputacion'], dtype=object)"
      ]
     },
     "execution_count": 46,
     "metadata": {},
     "output_type": "execute_result"
    }
   ],
   "source": [
    "df = pd.read_csv(\"df_total.csv\")\n",
    "df[\"Type\"].unique()"
   ]
  },
  {
   "cell_type": "code",
   "execution_count": 45,
   "metadata": {},
   "outputs": [
    {
     "name": "stdout",
     "output_type": "stream",
     "text": [
      "(1061, 2)\n"
     ]
    }
   ],
   "source": [
    "filtered_df = df[df['Type'].isin(['Innovacion', 'Alianzas', 'Regulaciones','Macroeconomia','Sostenibilidad'])]\n",
    "filtered_df = filtered_df.drop(columns=['url'])\n",
    "print(filtered_df.shape)"
   ]
  },
  {
   "cell_type": "markdown",
   "metadata": {},
   "source": [
    "### Normalización"
   ]
  },
  {
   "cell_type": "markdown",
   "metadata": {},
   "source": [
    "#### Conversión a minúsculas"
   ]
  },
  {
   "cell_type": "code",
   "execution_count": 30,
   "metadata": {},
   "outputs": [],
   "source": [
    "filtered_df['news'] = filtered_df['news'].str.lower()\n",
    "filtered_df['Type'] = filtered_df['Type'].str.lower()"
   ]
  },
  {
   "cell_type": "markdown",
   "metadata": {},
   "source": [
    "#### Eliminar signos de puntuación"
   ]
  },
  {
   "cell_type": "code",
   "execution_count": 51,
   "metadata": {},
   "outputs": [],
   "source": [
    "filtered_df['news'] = filtered_df['news'].apply(lambda x: re.sub(r'[^\\w\\s]', '', x))"
   ]
  },
  {
   "cell_type": "markdown",
   "metadata": {},
   "source": [
    "#### Eliminar stop words"
   ]
  },
  {
   "cell_type": "code",
   "execution_count": 54,
   "metadata": {},
   "outputs": [
    {
     "name": "stderr",
     "output_type": "stream",
     "text": [
      "[nltk_data] Downloading package stopwords to\n",
      "[nltk_data]     C:\\Users\\Bodoque\\AppData\\Roaming\\nltk_data...\n",
      "[nltk_data]   Unzipping corpora\\stopwords.zip.\n"
     ]
    }
   ],
   "source": [
    "# Descargar las stop words en español\n",
    "nltk.download('stopwords')\n",
    "stop_words = set(stopwords.words('spanish'))\n",
    "\n",
    "# Función para eliminar stop words\n",
    "def remove_stopwords(text):\n",
    "    return ' '.join([word for word in text.split() if word not in stop_words])\n",
    "\n",
    "# Aplicar la función al dataframe\n",
    "filtered_df['news'] = filtered_df['news'].apply(remove_stopwords)"
   ]
  },
  {
   "cell_type": "code",
   "execution_count": 55,
   "metadata": {},
   "outputs": [
    {
     "data": {
      "application/vnd.microsoft.datawrangler.viewer.v0+json": {
       "columns": [
        {
         "name": "index",
         "rawType": "int64",
         "type": "integer"
        },
        {
         "name": "news",
         "rawType": "object",
         "type": "string"
        },
        {
         "name": "Type",
         "rawType": "object",
         "type": "string"
        }
       ],
       "conversionMethod": "pd.DataFrame",
       "ref": "209920c2-5607-40ee-9dff-b96d1377299d",
       "rows": [
        [
         "1",
         "El regulador valores China dijo domingo buscará cooperación estrecha par estadounidense apoyará salidas bolsa extranjero luego supervisores estadounidenses endurecieron exigencias divulgación información empresas chinas expresaron preocupación medidas PekínLa Comisión Reguladora Valores China CSRC dijo comunicado tomó nota nuevos requisitos Comisión Valores Estados Unidos SEC empresas chinas ambas partes deberían mantener espíritu respeto mutuo reforzar comunicaciones regulaciónLa CSRC siempre abierta empresas elijan dónde salir bolsa política nacional básica China avanzar reforma apertura inquebrantable apertura financiera mundo exterior continuará dijo sitio webLa SEC dicho viernes exigirá compañías chinas revelen incertidumbre futuras acciones gobierno China puedan afectar significativamente resultados financieros empresa permitirles captar capital mercados valores estadounidensesLos emisores chinos deben revelar si denegó permiso autoridades chinas cotizar bolsas estadounidenses riesgos dicha aprobación pueda ser denegada rescindida añadió SECChina reforzado control regulatorio emisión acciones extranjero después lanzó investigación ciberseguridad gigante transporte Didi Global Inc mes pasado apenas días después cotización Nueva YorkEl gabinete chino dijo 6 julio reforzaría supervisión todas empresas chinas cotizan extranjeroEl regulador ciberespacio chino dijo cualquier empresa datos millón usuarios debe someterse revisión ciberseguridad cotizar extranjeroEl banco central China dicho empresas pago bancarias deben informar planes cotizar extranjero",
         "Regulaciones"
        ],
        [
         "2",
         "En industria históricamente masculina aviación Viva presentó avión rosado A320NEO apuesta equidad género lucha cáncer mama inclusión diversidadDesde Francia llegó Go Pink precio promedio US50 millones convirtiéndose aeronave número 20 21 finalizará año aerolíneaEn Viva trabajando fuerte mujeres Actualmente grupo ejecutivo compuesto 42 mujeres meta llegar 2022 50 staff señaló Félix Antelo CEO VivaAsimismo agregó evaluando traer avión propuesta próximo año así proyectan crecimiento 60 sillas último trimestre 2021 comparación mismo periodo 2019Vamos moviendo dos millones pasajeros finalizar año número ambicioso contentos reacción mercado pasajeros eligiendo Viva flota nueva nueva imagen precios bajos dijoSobre planes expansión internacional compañía aerolínea continuará creciendo pues proyectan abrir 15 rutas tres añosTenemos buena apuesta Florida Nueva York República Dominicana Buenos Aires probablemente próximo año contó Declan Ryan presidente Grupo VivaDel mismo modo reveló estudia alianza Viva Aerobus aerolínea mexicana recientemente empezó operar ColombiaViva Aerobus hijo Juan Carlos CEO gran amigo seguramente vamos trabajar Es contemplaTeniendo cuenta entrada empresas modelo low cost cuestionan si industria va camino ser solo nicho obstante podrán asumir todas aerolíneas según RyanEn promedio personas ahorran US50 viajar modelo bajo costo decir US14 billones sido ahorrados colombianos Sin embargo historia aviación mostrado grandes aerolíneas tratan trabajar bajo modelo low cost funciona costos",
         "Alianzas"
        ]
       ],
       "shape": {
        "columns": 2,
        "rows": 2
       }
      },
      "text/html": [
       "<div>\n",
       "<style scoped>\n",
       "    .dataframe tbody tr th:only-of-type {\n",
       "        vertical-align: middle;\n",
       "    }\n",
       "\n",
       "    .dataframe tbody tr th {\n",
       "        vertical-align: top;\n",
       "    }\n",
       "\n",
       "    .dataframe thead th {\n",
       "        text-align: right;\n",
       "    }\n",
       "</style>\n",
       "<table border=\"1\" class=\"dataframe\">\n",
       "  <thead>\n",
       "    <tr style=\"text-align: right;\">\n",
       "      <th></th>\n",
       "      <th>news</th>\n",
       "      <th>Type</th>\n",
       "    </tr>\n",
       "  </thead>\n",
       "  <tbody>\n",
       "    <tr>\n",
       "      <th>1</th>\n",
       "      <td>El regulador valores China dijo domingo buscar...</td>\n",
       "      <td>Regulaciones</td>\n",
       "    </tr>\n",
       "    <tr>\n",
       "      <th>2</th>\n",
       "      <td>En industria históricamente masculina aviación...</td>\n",
       "      <td>Alianzas</td>\n",
       "    </tr>\n",
       "  </tbody>\n",
       "</table>\n",
       "</div>"
      ],
      "text/plain": [
       "                                                news          Type\n",
       "1  El regulador valores China dijo domingo buscar...  Regulaciones\n",
       "2  En industria históricamente masculina aviación...      Alianzas"
      ]
     },
     "execution_count": 55,
     "metadata": {},
     "output_type": "execute_result"
    }
   ],
   "source": [
    "filtered_df.head(2)"
   ]
  }
 ],
 "metadata": {
  "kernelspec": {
   "display_name": "Python 3",
   "language": "python",
   "name": "python3"
  },
  "language_info": {
   "codemirror_mode": {
    "name": "ipython",
    "version": 3
   },
   "file_extension": ".py",
   "mimetype": "text/x-python",
   "name": "python",
   "nbconvert_exporter": "python",
   "pygments_lexer": "ipython3",
   "version": "3.11.9"
  }
 },
 "nbformat": 4,
 "nbformat_minor": 2
}
