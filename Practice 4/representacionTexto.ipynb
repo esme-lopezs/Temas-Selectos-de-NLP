{
 "cells": [
  {
   "cell_type": "markdown",
   "metadata": {},
   "source": [
    "### Bibliotecas"
   ]
  },
  {
   "cell_type": "code",
   "execution_count": 16,
   "metadata": {},
   "outputs": [],
   "source": [
    "import pandas as pd\n",
    "import re\n",
    "import nltk\n",
    "from nltk.corpus import stopwords"
   ]
  },
  {
   "cell_type": "markdown",
   "metadata": {},
   "source": [
    "### Carga de datos"
   ]
  },
  {
   "cell_type": "code",
   "execution_count": 17,
   "metadata": {},
   "outputs": [
    {
     "data": {
      "text/plain": [
       "array(['Otra', 'Regulaciones', 'Alianzas', 'Macroeconomia', 'Innovacion',\n",
       "       'Sostenibilidad', 'Reputacion'], dtype=object)"
      ]
     },
     "execution_count": 17,
     "metadata": {},
     "output_type": "execute_result"
    }
   ],
   "source": [
    "df = pd.read_csv(\"df_total.csv\")\n",
    "df[\"Type\"].unique()"
   ]
  },
  {
   "cell_type": "code",
   "execution_count": 18,
   "metadata": {},
   "outputs": [
    {
     "name": "stdout",
     "output_type": "stream",
     "text": [
      "(1061, 2)\n",
      "(1000, 2)\n"
     ]
    }
   ],
   "source": [
    "filtered_df = df[df['Type'].isin(['Innovacion', 'Alianzas', 'Regulaciones','Macroeconomia','Sostenibilidad'])]\n",
    "filtered_df = filtered_df.drop(columns=['url'])\n",
    "print(filtered_df.shape)\n",
    "filtered_df = filtered_df.drop(filtered_df.sample(n=61).index)\n",
    "print(filtered_df.shape)"
   ]
  },
  {
   "cell_type": "markdown",
   "metadata": {},
   "source": [
    "### Normalización"
   ]
  },
  {
   "cell_type": "markdown",
   "metadata": {},
   "source": [
    "#### Conversión a minúsculas"
   ]
  },
  {
   "cell_type": "code",
   "execution_count": 19,
   "metadata": {},
   "outputs": [],
   "source": [
    "filtered_df['news'] = filtered_df['news'].str.lower()\n",
    "filtered_df['Type'] = filtered_df['Type'].str.lower()"
   ]
  },
  {
   "cell_type": "code",
   "execution_count": 20,
   "metadata": {},
   "outputs": [],
   "source": [
    "# reserva de una version sin eliminar signos de puntuacion y stopwords\n",
    "llm_df = filtered_df.copy()"
   ]
  },
  {
   "cell_type": "markdown",
   "metadata": {},
   "source": [
    "#### Eliminar signos de puntuación"
   ]
  },
  {
   "cell_type": "code",
   "execution_count": 21,
   "metadata": {},
   "outputs": [],
   "source": [
    "filtered_df['news'] = filtered_df['news'].apply(lambda x: re.sub(r'[^\\w\\s]', '', x))"
   ]
  },
  {
   "cell_type": "markdown",
   "metadata": {},
   "source": [
    "#### Eliminar espacios en blanco"
   ]
  },
  {
   "cell_type": "code",
   "execution_count": 22,
   "metadata": {},
   "outputs": [],
   "source": [
    "filtered_df = filtered_df.apply(lambda x: x.str.strip() if x.dtype == \"object\" else x)"
   ]
  },
  {
   "cell_type": "markdown",
   "metadata": {},
   "source": [
    "#### Eliminar stop words"
   ]
  },
  {
   "cell_type": "code",
   "execution_count": 23,
   "metadata": {},
   "outputs": [
    {
     "name": "stderr",
     "output_type": "stream",
     "text": [
      "[nltk_data] Downloading package stopwords to\n",
      "[nltk_data]     C:\\Users\\1010h\\AppData\\Roaming\\nltk_data...\n",
      "[nltk_data]   Unzipping corpora\\stopwords.zip.\n"
     ]
    }
   ],
   "source": [
    "# Descargar las stop words en español\n",
    "nltk.download('stopwords')\n",
    "stop_words = set(stopwords.words('spanish'))\n",
    "\n",
    "# Función para eliminar stop words\n",
    "def remove_stopwords(text):\n",
    "    return ' '.join([word for word in text.split() if word not in stop_words])\n",
    "\n",
    "# Aplicar la función al dataframe\n",
    "filtered_df['news'] = filtered_df['news'].apply(remove_stopwords)"
   ]
  },
  {
   "cell_type": "code",
   "execution_count": 24,
   "metadata": {},
   "outputs": [
    {
     "data": {
      "application/vnd.microsoft.datawrangler.viewer.v0+json": {
       "columns": [
        {
         "name": "index",
         "rawType": "int64",
         "type": "integer"
        },
        {
         "name": "news",
         "rawType": "object",
         "type": "string"
        },
        {
         "name": "Type",
         "rawType": "object",
         "type": "string"
        }
       ],
       "conversionMethod": "pd.DataFrame",
       "ref": "ec40ed97-4d94-4316-b954-c575e4128f63",
       "rows": [
        [
         "1",
         "regulador valores china dijo domingo buscará cooperación estrecha par estadounidense apoyará salidas bolsa extranjero luego supervisores estadounidenses endurecieron exigencias divulgación información empresas chinas expresaron preocupación medidas pekínla comisión reguladora valores china csrc dijo comunicado tomó nota nuevos requisitos comisión valores unidos sec empresas chinas ambas partes deberían mantener espíritu respeto mutuo reforzar comunicaciones regulaciónla csrc siempre abierta empresas elijan dónde salir bolsa política nacional básica china avanzar reforma apertura inquebrantable apertura financiera mundo exterior continuará dijo sitio webla sec dicho viernes exigirá compañías chinas revelen incertidumbre futuras acciones gobierno china puedan afectar significativamente resultados financieros empresa permitirles captar capital mercados valores estadounidenseslos emisores chinos deben revelar si denegó permiso autoridades chinas cotizar bolsas estadounidenses riesgos dicha aprobación pueda ser denegada rescindida añadió secchina reforzado control regulatorio emisión acciones extranjero después lanzó investigación ciberseguridad gigante transporte didi global inc mes pasado apenas días después cotización nueva yorkel gabinete chino dijo 6 julio reforzaría supervisión todas empresas chinas cotizan extranjeroel regulador ciberespacio chino dijo cualquier empresa datos millón usuarios debe someterse revisión ciberseguridad cotizar extranjeroel banco central china dicho empresas pago bancarias deben informar planes cotizar extranjero",
         "regulaciones"
        ],
        [
         "2",
         "industria históricamente masculina aviación viva presentó avión rosado a320neo apuesta equidad género lucha cáncer mama inclusión diversidaddesde francia llegó go pink precio promedio us50 millones convirtiéndose aeronave número 20 21 finalizará año aerolíneaen viva trabajando fuerte mujeres actualmente grupo ejecutivo compuesto 42 mujeres meta llegar 2022 50 staff señaló félix antelo ceo vivaasimismo agregó evaluando traer avión propuesta próximo año así proyectan crecimiento 60 sillas último trimestre 2021 comparación mismo periodo 2019vamos moviendo dos millones pasajeros finalizar año número ambicioso contentos reacción mercado pasajeros eligiendo viva flota nueva nueva imagen precios bajos dijosobre planes expansión internacional compañía aerolínea continuará creciendo pues proyectan abrir 15 rutas tres añostenemos buena apuesta florida nueva york república dominicana buenos aires probablemente próximo año contó declan ryan presidente grupo vivadel mismo modo reveló estudia alianza viva aerobus aerolínea mexicana recientemente empezó operar colombiaviva aerobus hijo juan carlos ceo gran amigo seguramente vamos trabajar contemplateniendo cuenta entrada empresas modelo low cost cuestionan si industria va camino ser solo nicho obstante podrán asumir todas aerolíneas según ryanen promedio personas ahorran us50 viajar modelo bajo costo decir us14 billones sido ahorrados colombianos embargo historia aviación mostrado grandes aerolíneas tratan trabajar bajo modelo low cost funciona costos",
         "alianzas"
        ]
       ],
       "shape": {
        "columns": 2,
        "rows": 2
       }
      },
      "text/html": [
       "<div>\n",
       "<style scoped>\n",
       "    .dataframe tbody tr th:only-of-type {\n",
       "        vertical-align: middle;\n",
       "    }\n",
       "\n",
       "    .dataframe tbody tr th {\n",
       "        vertical-align: top;\n",
       "    }\n",
       "\n",
       "    .dataframe thead th {\n",
       "        text-align: right;\n",
       "    }\n",
       "</style>\n",
       "<table border=\"1\" class=\"dataframe\">\n",
       "  <thead>\n",
       "    <tr style=\"text-align: right;\">\n",
       "      <th></th>\n",
       "      <th>news</th>\n",
       "      <th>Type</th>\n",
       "    </tr>\n",
       "  </thead>\n",
       "  <tbody>\n",
       "    <tr>\n",
       "      <th>1</th>\n",
       "      <td>regulador valores china dijo domingo buscará c...</td>\n",
       "      <td>regulaciones</td>\n",
       "    </tr>\n",
       "    <tr>\n",
       "      <th>2</th>\n",
       "      <td>industria históricamente masculina aviación vi...</td>\n",
       "      <td>alianzas</td>\n",
       "    </tr>\n",
       "  </tbody>\n",
       "</table>\n",
       "</div>"
      ],
      "text/plain": [
       "                                                news          Type\n",
       "1  regulador valores china dijo domingo buscará c...  regulaciones\n",
       "2  industria históricamente masculina aviación vi...      alianzas"
      ]
     },
     "execution_count": 24,
     "metadata": {},
     "output_type": "execute_result"
    }
   ],
   "source": [
    "filtered_df.head(2)"
   ]
  }
 ],
 "metadata": {
  "kernelspec": {
   "display_name": "Python 3",
   "language": "python",
   "name": "python3"
  },
  "language_info": {
   "codemirror_mode": {
    "name": "ipython",
    "version": 3
   },
   "file_extension": ".py",
   "mimetype": "text/x-python",
   "name": "python",
   "nbconvert_exporter": "python",
   "pygments_lexer": "ipython3",
   "version": "3.11.9"
  }
 },
 "nbformat": 4,
 "nbformat_minor": 2
}
