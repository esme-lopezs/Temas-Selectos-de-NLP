{
 "cells": [
  {
   "cell_type": "markdown",
   "metadata": {},
   "source": [
    "### Bibliotecas"
   ]
  },
  {
   "cell_type": "code",
   "execution_count": 1,
   "metadata": {},
   "outputs": [],
   "source": [
    "import pandas as pd"
   ]
  },
  {
   "cell_type": "markdown",
   "metadata": {},
   "source": [
    "## Normalización de texto"
   ]
  },
  {
   "cell_type": "code",
   "execution_count": 2,
   "metadata": {},
   "outputs": [],
   "source": [
    "df = pd.read_csv(\"df_total.csv\")"
   ]
  },
  {
   "cell_type": "code",
   "execution_count": 4,
   "metadata": {},
   "outputs": [
    {
     "data": {
      "application/vnd.microsoft.datawrangler.viewer.v0+json": {
       "columns": [
        {
         "name": "index",
         "rawType": "int64",
         "type": "integer"
        },
        {
         "name": "url",
         "rawType": "object",
         "type": "string"
        },
        {
         "name": "news",
         "rawType": "object",
         "type": "string"
        },
        {
         "name": "Type",
         "rawType": "object",
         "type": "string"
        }
       ],
       "conversionMethod": "pd.DataFrame",
       "ref": "9aaae8b6-8635-4aeb-b52d-9f49c3df3dd3",
       "rows": [
        [
         "0",
         "https://www.larepublica.co/redirect/post/3201905",
         "Durante el foro La banca articulador empresarial para el desarrollo sostenible el director de sostenibilidad y clientes globales de BBVA en Colombia Andrés García aseguró que es importante entender que la sostenibilidad no la podemos asociar a mayores costos. Yo creo que el no tener un concepto de negocio sostenible puede tener un mayor impacto de lo que imaginamos.Para García el reto más importante es no cambiar prioridades ni que compitan entre sí necesariamente. En muchos de los casos se debe tratar de mantener la prioridad en cuanto a la ambición de negocios más sostenibles un reto enorme por la coyuntura. La sostenibilidad nos abre oportunidades a mejores fuentes de financiamiento agregó.El directivo argumentó que lo que se encuentra en juego acá no es un tema de rentabilidad o de negocios en particular es un tema de viabilidad del mundo de los negocios y del mundo físico en general como lo conocemos. Además los riesgos físicos y de transición asociados al cambio climático y a la no inclusión social en el desarrollo son reales y están ahí.Esto ya dejó de ser un aspecto en paralelo de responsabilidad social corporativa ahora tiene que estar en el ADN de las estrategias del mismo negocio. Solo de esa manera se logran impulsar proyectos específicos porque van a están incluidos dentro de las aspiraciones concluyó.",
         "Otra"
        ],
        [
         "1",
         "https://www.larepublica.co/redirect/post/3210288",
         "El regulador de valores de China dijo el domingo que buscará una cooperación más estrecha con su par estadounidense y que apoyará las salidas a bolsa en el extranjero luego de que supervisores estadounidenses endurecieron las exigencias de divulgación de información para las empresas chinas y expresaron preocupación por medidas de Pekín.La Comisión Reguladora de Valores de China CSRC dijo en un comunicado que tomó nota de los nuevos requisitos de la Comisión de Valores de Estados Unidos SEC para las empresas chinas y que ambas partes deberían mantener el espíritu de respeto mutuo y reforzar las comunicaciones sobre la regulación.La CSRC siempre ha estado abierta a que las empresas elijan dónde salir a bolsa y la política nacional básica de China de avanzar en la reforma y la apertura es inquebrantable y la apertura financiera al mundo exterior continuará dijo en su sitio web.La SEC había dicho el viernes que exigirá a las compañías chinas que revelen la incertidumbre sobre futuras acciones del gobierno de China que puedan afectar significativamente a los resultados financieros de la empresa antes de permitirles captar capital en los mercados de valores estadounidenses.Los emisores chinos también deben revelar si se les denegó el permiso de las autoridades chinas para cotizar en las bolsas estadounidenses y los riesgos de que dicha aprobación pueda ser denegada o rescindida añadió la SEC.China ha reforzado su control regulatorio sobre la emisión de acciones en el extranjero después de que lanzó una investigación de ciberseguridad sobre el gigante del transporte Didi Global Inc el mes pasado apenas unos días después de su cotización en Nueva York.El gabinete chino dijo el 6 de julio que reforzaría la supervisión de todas las empresas chinas que cotizan en el extranjero.El regulador del ciberespacio chino dijo que cualquier empresa con datos de más de un millón de usuarios debe someterse a una revisión de ciberseguridad antes de cotizar en el extranjero.El banco central de China también ha dicho que las empresas de pago no bancarias deben informar de sus planes de cotizar en el extranjero.",
         "Regulaciones"
        ],
        [
         "2",
         "https://www.larepublica.co/redirect/post/3240676",
         "En una industria históricamente masculina como lo es la aviación Viva presentó su avión rosado A320NEO que apuesta por la equidad de género la lucha contra el cáncer de mama la inclusión y la diversidad.Desde Francia llegó Go Pink que tuvo un precio promedio de US50 millones convirtiéndose en la aeronave número 20 de las 21 con las que finalizará el año esta aerolínea.En Viva estamos trabajando muy fuerte para que haya más mujeres. Actualmente el grupo ejecutivo está compuesto por 42 mujeres pero la meta es llegar en 2022 con 50 de ellas en nuestro staff señaló Félix Antelo CEO de Viva.Asimismo agregó que están evaluando traer otro avión con esta propuesta para el próximo año así como proyectan un crecimiento de 60 en sillas para el último trimestre de 2021 en comparación con el mismo periodo de 2019.Vamos a estar moviendo más de dos millones de pasajeros para finalizar el año es un número ambicioso pero estamos contentos por la reacción del mercado y porque muchos pasajeros están eligiendo a Viva por la flota nueva la nueva imagen y los precios bajos dijo.Sobre los planes de expansión internacional de la compañía la aerolínea continuará creciendo pues proyectan abrir 15 rutas en tres años.Tenemos una buena apuesta por Florida Nueva York República Dominicana y Buenos Aires probablemente para el próximo año contó Declan Ryan presidente del Grupo Viva.Del mismo modo reveló que se estudia una alianza con Viva Aerobus la aerolínea mexicana que recientemente empezó a operar en Colombia.Viva Aerobus es como un hijo para mí. Juan Carlos el CEO es un gran amigo y seguramente vamos a trabajar con ellos. Es algo que se contempla.Teniendo en cuenta la entrada de más empresas al modelo de low cost muchos cuestionan si la industria va camino a ser solo de este nicho no obstante es algo que no podrán asumir todas las aerolíneas según Ryan.En promedio las personas ahorran US50 al viajar con modelo de bajo costo es decir US14 billones han sido ahorrados por los colombianos. Sin embargo la historia de la aviación nos ha mostrado que cuando las grandes aerolíneas tratan de trabajar bajo el modelo de low cost no les funciona por sus costos.",
         "Alianzas"
        ],
        [
         "3",
         "https://www.larepublica.co/redirect/post/3342889",
         "Con el dato de marzo el IPC interanual encadena su decimoquinta tasa positiva consecutiva. La inflación publicada por el INE se ha mantenido igual respecto al avance del 30 de marzo y se sitúa 22 puntos por encima del dato de febrero que ascendió al 76.De esos 22 puntos de diferencia la mayor parte la colocó el grupo de la vivienda 09 puntos por la subida de la electricidad y el del transporte 07 puntos por el alza de los carburantes. También impulsaron el IPC de marzo el aumento de los precios de la restauración y los servicios de alojamiento y al encarecimiento generalizado de los alimentos especialmente del pescado y el marisco de la carne de las legumbres y hortalizas y de la leche el queso y los huevos.Sin tener en cuenta la rebaja del impuesto especial sobre la electricidad y las variaciones sobre otros impuestos el IPC interanual alcanzó en marzo 107 nueve décimas más que la tasa general del 98. Así lo refleja el IPC a impuestos constantes que el INE también publica en el marco de esta estadística.La inflación subyacente sin alimentos no elaborados ni productos energéticos aumentó en marzo cuatro décimas hasta 34 su valor más alto desde septiembre de 2008. De este modo la subyacente se sitúa más de seis puntos por debajo de la tasa del IPC general.En el último año la calefacción el alumbrado y la distribución de agua se han encarecido 683 los aceites y grasas han elevado sus precios un 321 y el transporte personal es un 193 más caro por el mayor coste de los carburantes. También registran alzas de dos dígitos los huevos y la leche un 11 más caros que hace un año y la carne de ovino y el pescado fresco y congelado con repuntes del 101 en ambos casos.Cómo están los precios por comunidadesCastillaLa Mancha se situó a la cabeza con una tasa de inflación del 117 seguida de Castilla y León 11 Aragón 107 La Rioja 106 Galicia 105 Extremadura 103 Cantabria 102 y Comunidad Valenciana 102.En el otro las comunidades donde se registraron las menores subidas fueron Canarias 84 Madrid 9 Baleares 94 Asturias 95 País Vasco 95 y Cataluña 95.El IPC dispara su tasa mensual al 3En tasa mensual el IPC registró en marzo un incremento del 3 respecto a febrero su mayor alza mensual en cualquier mes desde 2002 cuando se cambió la metodología de esta estadística para recoger mejor la evolución del mercado. Echando la vista más atrás tomando series anteriores el repunte mensual de marzo es el más elevado desde agosto de 1977.En el tercer mes de 2022 el Índice de Precios de Consumo Armonizado IPCA situó su tasa interanual en 98 más de dos puntos por encima de la de febrero. Por su parte el indicador adelantado del IPCA avanzó un 39 en tasa mensual.",
         "Macroeconomia"
        ],
        [
         "4",
         "https://www.larepublica.co/redirect/post/3427208",
         "Ayer en Cartagena se dio inicio a la versión número 56 de la Convención Bancaria. Este será el primer encuentro de los banqueros del país con el presidente Gustavo Petro quien estará en la sesión de clausura el próximo viernes.Mario Pardo Bayona el presidente de la Junta Directiva de Asobancaria y presidente de Bbva Colombia dio inicio a la sesión de apertura destacando que a pesar de los avances económicos y financieros del país aún existe un reto clave reducir las inequidades.En ese sentido el directivo propuso cinco objetivos desde la banca. Como primer punto resaltó la importancia de seguir financiando infraestructura de telecomunicaciones energía agua y alcantarillado que faciliten la vida y la provisión de servicios en la ruralidad.Como segundo y tercer punto sería clave seguir comprometidos con la bancarización y aumentar el acceso al crédito pues solo 34 de los adultos y 31 de las Pyme en Colombia acceden al crédito formal. Sustituir el gota a gota por el crédito formal es el mejor instrumento para que los colombianos puedan materializar sus sueños y para reducir la pobreza de los microempresarios dijo el directivo.Otro objetivo es trabajar para que los productos financieros cada vez sean más económicos aprovechando la digitalización. Como último punto se debe garantizar que los avances lleguen a todos. A las poblaciones negras raizales palenqueras indígenas mujeres cabeza de familia campesinos jóvenes discapacitados migrantes etc. Para ello debemos trabajar con el Estado en identificar y derribar las barreras que existan y desde el sector debemos medir publicar y comprometer cifras con los avances en los servicios a estos segmentos poblacionales señaló Pardo.A su turno el gerente general del Banco de la República Leonardo Villar resaltó el papel de la banca durante la pandemia. Las cifras a julio excluyendo la cartera de moneda extranjera muestran tasas de crecimiento de 17 en el crédito agregado y cercanas a 23 en la cartera para los consumidores. Sin embargo aseguró que dicho crecimiento tiene su contrapartida en el mayor endeudamiento de los consumidores y las empresas por lo que el aumento de las tasas se reflejaría en un incremento de la carga financiera.De hecho el superintendente financiero Jorge Castaño advirtió un aumento de los cupos de las tarjetas de crédito y el deterioro de las originaciones nuevas. El problema es el sobreendeudamiento que las familias puedan tener al acceder a esos cupos altos de tarjetas de créditos. La Superintendencia Financiera está viendo que la carga financiera de los hogares ha empezado a aumentar. La porción de dinero que las familias utilizan para pagar sus deudas está empezando a crecer. Si a esto le agregamos el efecto de la inflación va a haber una mayor presión en la capacidad de pago. Nuestro mensaje es que sigamos siendo muy responsables en el uso de los créditos aseguró Castaño.Durante la apertura del evento el gerente del Emisor también se refirió al avance de los pagos digitales y aseguró que tomamos la decisión de avanzar hacia un sistema de transferencias digitales inmediatas seguras y eficientes que sea totalmente interoperable y que contribuya a la competitividad de los mercados y el desarrollo del país.Frente al anuncio que hizo el director de la Dian Luis Carlos Reyes sobre avanzar en la emisión de una moneda digital Villar aseguró que a inicios de agosto se instaló un foro para avanzar en las decisiones urgentes relacionadas con los pagos inmediatos y que dicho foro servirá como insumo para en un futuro tomar la decisión sobre emitir o no una moneda digital.Un reto del Estado es seguir ofreciendo garantías para facilitar el acceso al crédito de las mujeres esquema donde todavía hay brechas a favor de los hombres.Confiamos en que el foro se convierta en una herramienta para avanzar en las decisiones que tenemos en los pagos inmediatos. Nuestro referente más cercano es el sistema Pix que se ha desarrollado en Brasil donde tras solo dos años de operación más de 70 de los adultos utiliza el sistema para sus pagos . Este mismo foro podrá servirnos para avanzar en el diseños de esquemas que amplíen la oferta de pagos transfronterizos y así evaluar la conveniencia de emitir una moneda digital del Banco Central dijo Villar.Asobancaria cambió su marca y eslogan después de más de 50 añosEn el inicio de la Convención Bancaria en Cartagena Asobancaria anunció la renovación de su logo por primera vez en 50 años y su slogan que ahora se refiere a acercar la banca a los colombianos.Lo anterior indicó su presidente Hernando José Gómez como reflejo de la transformación que ha experimentado el sector financiero y de su compromiso con el país. Según el dirigente gremial la marca busca reflejar el apoyo al desarrollo sostenible del país y la construcción de caminos hacia un futuro compartido.",
         "Otra"
        ]
       ],
       "shape": {
        "columns": 3,
        "rows": 5
       }
      },
      "text/html": [
       "<div>\n",
       "<style scoped>\n",
       "    .dataframe tbody tr th:only-of-type {\n",
       "        vertical-align: middle;\n",
       "    }\n",
       "\n",
       "    .dataframe tbody tr th {\n",
       "        vertical-align: top;\n",
       "    }\n",
       "\n",
       "    .dataframe thead th {\n",
       "        text-align: right;\n",
       "    }\n",
       "</style>\n",
       "<table border=\"1\" class=\"dataframe\">\n",
       "  <thead>\n",
       "    <tr style=\"text-align: right;\">\n",
       "      <th></th>\n",
       "      <th>url</th>\n",
       "      <th>news</th>\n",
       "      <th>Type</th>\n",
       "    </tr>\n",
       "  </thead>\n",
       "  <tbody>\n",
       "    <tr>\n",
       "      <th>0</th>\n",
       "      <td>https://www.larepublica.co/redirect/post/3201905</td>\n",
       "      <td>Durante el foro La banca articulador empresari...</td>\n",
       "      <td>Otra</td>\n",
       "    </tr>\n",
       "    <tr>\n",
       "      <th>1</th>\n",
       "      <td>https://www.larepublica.co/redirect/post/3210288</td>\n",
       "      <td>El regulador de valores de China dijo el domin...</td>\n",
       "      <td>Regulaciones</td>\n",
       "    </tr>\n",
       "    <tr>\n",
       "      <th>2</th>\n",
       "      <td>https://www.larepublica.co/redirect/post/3240676</td>\n",
       "      <td>En una industria históricamente masculina como...</td>\n",
       "      <td>Alianzas</td>\n",
       "    </tr>\n",
       "    <tr>\n",
       "      <th>3</th>\n",
       "      <td>https://www.larepublica.co/redirect/post/3342889</td>\n",
       "      <td>Con el dato de marzo el IPC interanual encaden...</td>\n",
       "      <td>Macroeconomia</td>\n",
       "    </tr>\n",
       "    <tr>\n",
       "      <th>4</th>\n",
       "      <td>https://www.larepublica.co/redirect/post/3427208</td>\n",
       "      <td>Ayer en Cartagena se dio inicio a la versión n...</td>\n",
       "      <td>Otra</td>\n",
       "    </tr>\n",
       "  </tbody>\n",
       "</table>\n",
       "</div>"
      ],
      "text/plain": [
       "                                                url  \\\n",
       "0  https://www.larepublica.co/redirect/post/3201905   \n",
       "1  https://www.larepublica.co/redirect/post/3210288   \n",
       "2  https://www.larepublica.co/redirect/post/3240676   \n",
       "3  https://www.larepublica.co/redirect/post/3342889   \n",
       "4  https://www.larepublica.co/redirect/post/3427208   \n",
       "\n",
       "                                                news           Type  \n",
       "0  Durante el foro La banca articulador empresari...           Otra  \n",
       "1  El regulador de valores de China dijo el domin...   Regulaciones  \n",
       "2  En una industria históricamente masculina como...       Alianzas  \n",
       "3  Con el dato de marzo el IPC interanual encaden...  Macroeconomia  \n",
       "4  Ayer en Cartagena se dio inicio a la versión n...           Otra  "
      ]
     },
     "execution_count": 4,
     "metadata": {},
     "output_type": "execute_result"
    }
   ],
   "source": [
    "df.head()"
   ]
  }
 ],
 "metadata": {
  "kernelspec": {
   "display_name": "Python 3",
   "language": "python",
   "name": "python3"
  },
  "language_info": {
   "codemirror_mode": {
    "name": "ipython",
    "version": 3
   },
   "file_extension": ".py",
   "mimetype": "text/x-python",
   "name": "python",
   "nbconvert_exporter": "python",
   "pygments_lexer": "ipython3",
   "version": "3.11.9"
  }
 },
 "nbformat": 4,
 "nbformat_minor": 2
}
